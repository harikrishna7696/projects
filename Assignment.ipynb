{
 "cells": [
  {
   "cell_type": "code",
   "execution_count": 21,
   "id": "3c1109a2-5294-45ff-8161-73815e652072",
   "metadata": {},
   "outputs": [
    {
     "name": "stdout",
     "output_type": "stream",
     "text": [
      "extra:  vegetables ['ladies finger']\n"
     ]
    }
   ],
   "source": [
    "a = {'fruits':['banana', 'orange', 'guava'], 'vegetables':['ladies finger']}\n",
    "b = {'fruits':['orange'], 'birds':['piegion', 'cow']}\n",
    "\n",
    "\n",
    "def diff(a, b):\n",
    "    # i am comparing a with b if a values is not present b i will print missing values in b\n",
    "    for key, key1 in zip(a, b):\n",
    "        if key == key1:\n",
    "            # using set it can delete the duplicate and return only unique values\n",
    "            missing = None\n",
    "            if type(a[key]) == str and type(b[key1]):\n",
    "                if a[key] != b[key1]:\n",
    "                    missing = b[key1]\n",
    "                elif type(a[key]) == int and type(b[key1]) == int:\n",
    "                    print('missing', b[key1]\n",
    "                else:\n",
    "                    print('missing: ', key, set(a[key]) - set(b[key1]))\n",
    "        else:\n",
    "            # here also i am returning the unique values only becuse dict contain duplicate values\n",
    "            print('extra: ',key, a[key])\n",
    "            \n",
    "        \n",
    "diff(a, b)\n",
    "\n",
    "# print(len(a))"
   ]
  },
  {
   "cell_type": "code",
   "execution_count": 11,
   "id": "e9ae31b9-03ff-46e0-b52e-c6228e2d793b",
   "metadata": {},
   "outputs": [],
   "source": [
    "c = {'names': ['hari', 'anil', 'hitesh', 'parikh'], 'age':[1,2,3,4]}\n",
    "d = {'names': ['hari', 'yadav', 'hitesh', 'choudary'], 'age':[3,4]}"
   ]
  },
  {
   "cell_type": "code",
   "execution_count": 15,
   "id": "b7bfa2dd-88a4-4be1-99f2-5d248f78badd",
   "metadata": {},
   "outputs": [
    {
     "name": "stdout",
     "output_type": "stream",
     "text": [
      "missing:  names {'anil', 'parikh'}\n",
      "missing:  age {1, 2}\n"
     ]
    }
   ],
   "source": [
    "diff(c, d)"
   ]
  },
  {
   "cell_type": "code",
   "execution_count": 19,
   "id": "3c66a086-9d51-4cf1-a109-1048047c7f8b",
   "metadata": {},
   "outputs": [],
   "source": [
    "e = {1:'hari'}\n",
    "d = {1:'anil'}"
   ]
  },
  {
   "cell_type": "code",
   "execution_count": 22,
   "id": "66b6c340-e649-4a5f-bfa5-76fa6b850b10",
   "metadata": {},
   "outputs": [],
   "source": [
    "diff(e, d)"
   ]
  }
 ],
 "metadata": {
  "kernelspec": {
   "display_name": "Python 3 (ipykernel)",
   "language": "python",
   "name": "python3"
  },
  "language_info": {
   "codemirror_mode": {
    "name": "ipython",
    "version": 3
   },
   "file_extension": ".py",
   "mimetype": "text/x-python",
   "name": "python",
   "nbconvert_exporter": "python",
   "pygments_lexer": "ipython3",
   "version": "3.10.6"
  }
 },
 "nbformat": 4,
 "nbformat_minor": 5
}
