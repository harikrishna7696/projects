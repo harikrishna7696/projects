{
 "cells": [
  {
   "cell_type": "code",
   "execution_count": 98,
   "id": "c9d06195-517c-40fa-a366-3ef84810de25",
   "metadata": {},
   "outputs": [],
   "source": [
    "import requests as req \n",
    "api_key = 'enter your api key'"
   ]
  },
  {
   "cell_type": "markdown",
   "id": "8df21654-85cc-4286-99a2-9fff413696b9",
   "metadata": {},
   "source": [
    "TMDb 1.1\n",
    "Send Feedback\n",
    "Find the 'id' of the movie \"Andhadhun\" using TMDb API.\n",
    "Output Format:\n",
    "Print the id of the movie."
   ]
  },
  {
   "cell_type": "code",
   "execution_count": 2,
   "id": "522aab86-ca27-4774-8c36-a170832c526f",
   "metadata": {},
   "outputs": [
    {
     "name": "stdout",
     "output_type": "stream",
     "text": [
      "534780\n"
     ]
    }
   ],
   "source": [
    "for i in range(1,10):\n",
    "    res = req.get('https://api.themoviedb.org/3/discover/movie',params={'api_key':api_key,'page':i,'region':'IN','year':2018}) \n",
    "    data=res.json()\n",
    "    for i in data['results']:\n",
    "        if 'Andhadhun' in i['title']:\n",
    "            print(i['id'])\n",
    "            break"
   ]
  },
  {
   "cell_type": "markdown",
   "id": "fd3125bb-0685-4eb0-88d6-f69bf535346d",
   "metadata": {},
   "source": [
    "TMDb 1.2\n",
    "Send Feedback\n",
    "Fetch the company id company 'Marvel Studios' using TMDb. Print the id."
   ]
  },
  {
   "cell_type": "code",
   "execution_count": 3,
   "id": "e6c21198-75c4-44b5-842e-18c4ccf3f5f7",
   "metadata": {},
   "outputs": [
    {
     "data": {
      "text/plain": [
       "{'page': 1,\n",
       " 'results': [{'id': 420,\n",
       "   'logo_path': '/hUzeosd33nzE5MCNsZxCGEKTXaQ.png',\n",
       "   'name': 'Marvel Studios',\n",
       "   'origin_country': 'US'}],\n",
       " 'total_pages': 1,\n",
       " 'total_results': 1}"
      ]
     },
     "execution_count": 3,
     "metadata": {},
     "output_type": "execute_result"
    }
   ],
   "source": [
    "res = req.get('https://api.themoviedb.org/3/search/company', params={'api_key':api_key, 'page':1, 'query':'Marvel Studios'})\n",
    "data = res.json()\n",
    "data"
   ]
  },
  {
   "cell_type": "code",
   "execution_count": 4,
   "id": "a53c7bc4-a563-4260-a0fa-f21ccc3443a7",
   "metadata": {},
   "outputs": [
    {
     "data": {
      "text/plain": [
       "[{'id': 420,\n",
       "  'logo_path': '/hUzeosd33nzE5MCNsZxCGEKTXaQ.png',\n",
       "  'name': 'Marvel Studios',\n",
       "  'origin_country': 'US'}]"
      ]
     },
     "execution_count": 4,
     "metadata": {},
     "output_type": "execute_result"
    }
   ],
   "source": [
    "data['results']"
   ]
  },
  {
   "cell_type": "code",
   "execution_count": 5,
   "id": "69fcedab-1aa0-471b-a8f2-158c5bf2f20b",
   "metadata": {},
   "outputs": [
    {
     "name": "stdout",
     "output_type": "stream",
     "text": [
      "420\n"
     ]
    }
   ],
   "source": [
    "for i in data['results']:\n",
    "    print(i['id'])"
   ]
  },
  {
   "cell_type": "markdown",
   "id": "ef9b8cd5-37e0-4e2c-a32d-8b418602ba7a",
   "metadata": {},
   "source": [
    "TMDb 1.3\n",
    "Find the vote count and vote average of the movie \"3 Idiots\" using the TMDb API\n",
    "Output format: Vote Count , Vote Average"
   ]
  },
  {
   "cell_type": "code",
   "execution_count": 6,
   "id": "c0380fce-757e-435a-a350-3e778aecfe37",
   "metadata": {},
   "outputs": [
    {
     "name": "stdout",
     "output_type": "stream",
     "text": [
      "1919 8\n"
     ]
    }
   ],
   "source": [
    "api_key = '3af5fd1bec09de6a1a6e1009f79d583b'\n",
    "for i in range(1,10):\n",
    "    res = req.get('https://api.themoviedb.org/3/discover/movie',params={'api_key':api_key,'page':i,'region':'IN','year':2009}) \n",
    "    data=res.json()\n",
    "    for i in data['results']:\n",
    "        if '3 Idiots' in i['title']:\n",
    "            print(i['vote_count'],i['vote_average'])\n",
    "            break"
   ]
  },
  {
   "cell_type": "markdown",
   "id": "0a55b4e2-0a85-40cd-90bb-3e62d03d2aed",
   "metadata": {},
   "source": [
    "TMDb 1.4\n",
    "Fetch the names of top 5 similar movies to 'Inception' from the TMDb API.\n",
    "Output Format:\n",
    "Print the name of the movies in a new line.\n",
    "movie_name_1\n",
    "movie_name_2\n",
    "and so on"
   ]
  },
  {
   "cell_type": "code",
   "execution_count": 99,
   "id": "dde08fd6-a887-4fb0-a650-8eea780643c3",
   "metadata": {},
   "outputs": [
    {
     "name": "stdout",
     "output_type": "stream",
     "text": [
      "Inception\n",
      "It Follows\n",
      "The Martian\n",
      "Skiptrace\n",
      "King Arthur: Legend of the Sword\n"
     ]
    }
   ],
   "source": [
    "api_link = \"https://api.themoviedb.org/3\" \n",
    "params = {'query':\"Inception\", 'api_key':api_key}\n",
    "header = {'Accept': 'application/json'}\n",
    "response = req.get(api_link + \"/search/movie\", headers = header, params=params)\n",
    "data = response.json()\n",
    "results = data.get('results')\n",
    "for result in results:\n",
    "    if result.get('title') == 'Inception':\n",
    "        id = result.get('id')\n",
    "params2 = {'api_key':api_key}\n",
    "response2 = req.get(api_link + \"/movie/\" + str(id) + \"/similar\", headers = header, params=params2)\n",
    "data2 = response2.json()\n",
    "results2 = data2.get('results')\n",
    "for result in results2[:5]:\n",
    "    print(result.get(\"title\"))"
   ]
  },
  {
   "cell_type": "markdown",
   "id": "a0da57a7-cbcf-429e-9efd-bd29d042582c",
   "metadata": {},
   "source": [
    "TMDb 1.5\n",
    "Fetch the top rated english movies in the US region using the TMDb API. From the result, print the first 10 movies which have original language as english. Also print their genres.\n",
    "Note: Do not use the search/movies API for finding genres.\n",
    "Output Format:\n",
    "movie_name_1 - genre_1, genre_2 ....\n",
    "and so on.."
   ]
  },
  {
   "cell_type": "code",
   "execution_count": 9,
   "id": "8a176242-1a3e-4e85-b7f0-87ff4f815d50",
   "metadata": {},
   "outputs": [
    {
     "data": {
      "text/plain": [
       "{28: 'Action',\n",
       " 12: 'Adventure',\n",
       " 16: 'Animation',\n",
       " 35: 'Comedy',\n",
       " 80: 'Crime',\n",
       " 99: 'Documentary',\n",
       " 18: 'Drama',\n",
       " 10751: 'Family',\n",
       " 14: 'Fantasy',\n",
       " 36: 'History',\n",
       " 27: 'Horror',\n",
       " 10402: 'Music',\n",
       " 9648: 'Mystery',\n",
       " 10749: 'Romance',\n",
       " 878: 'Science Fiction',\n",
       " 10770: 'TV Movie',\n",
       " 53: 'Thriller',\n",
       " 10752: 'War',\n",
       " 37: 'Western'}"
      ]
     },
     "execution_count": 9,
     "metadata": {},
     "output_type": "execute_result"
    }
   ],
   "source": [
    "res = req.get('https://api.themoviedb.org/3/genre/movie/list', params={'api_key':api_key})\n",
    "data = res.json()\n",
    "genres ={}\n",
    "for i in data['genres']:\n",
    "    genres[i['id']] = i['name']\n",
    "genres"
   ]
  },
  {
   "cell_type": "code",
   "execution_count": 34,
   "id": "56322f26-3f70-4ffb-b43c-cbd0e046c419",
   "metadata": {},
   "outputs": [
    {
     "name": "stdout",
     "output_type": "stream",
     "text": [
      "The Godfather - Drama,Crime,\n",
      "The Shawshank Redemption - Drama,Crime,\n",
      "The Godfather Part II - Drama,Crime,\n",
      "Schindler's List - Drama,History,War,\n",
      "12 Angry Men - Drama,\n",
      "Gabriel's Inferno: Part II - Romance,\n",
      "The Green Mile - Fantasy,Drama,Crime,\n",
      "Gabriel's Inferno - Romance,\n",
      "The Dark Knight - Drama,Action,Crime,Thriller,\n",
      "Pulp Fiction - Thriller,Crime,\n"
     ]
    }
   ],
   "source": [
    "res = req.get('https://api.themoviedb.org/3/movie/top_rated', params={'api_key':api_key, 'region':'US'})\n",
    "data = res.json()\n",
    "data['results']\n",
    "count = 1\n",
    "while count < 10:\n",
    "    for i in data['results']:\n",
    "        if i['original_language'] == 'en':\n",
    "            print(i['title'], end=' - ')\n",
    "            for j in i['genre_ids']:\n",
    "                print(genres[j], end=',')\n",
    "            print()\n",
    "            if count == 10:\n",
    "                break\n",
    "            count += 1"
   ]
  },
  {
   "cell_type": "markdown",
   "id": "9a94731c-19c5-4f02-84c4-f552505ea3ba",
   "metadata": {},
   "source": [
    "TMDb 2.1\n",
    "Find the name and birthplace of the present most popular person according to TMDb API.\n",
    "Output Format:\n",
    "id\n",
    "name - birthplace"
   ]
  },
  {
   "cell_type": "code",
   "execution_count": 11,
   "id": "9de69b0f-65ed-4df9-a126-9b6fbbf73803",
   "metadata": {},
   "outputs": [
    {
     "data": {
      "text/plain": [
       "224513"
      ]
     },
     "execution_count": 11,
     "metadata": {},
     "output_type": "execute_result"
    }
   ],
   "source": [
    "res = req.get('https://api.themoviedb.org/3/person/popular',params={'api_key':api_key}) \n",
    "data=res.json()\n",
    "data=data['results'][0]\n",
    "MostPopularId=data['id']\n",
    "MostPopularId"
   ]
  },
  {
   "cell_type": "code",
   "execution_count": 12,
   "id": "ee712f96-3541-4e7a-ab98-ee3b6ed365d7",
   "metadata": {},
   "outputs": [
    {
     "name": "stdout",
     "output_type": "stream",
     "text": [
      "Min Do-yoon - Seoul, South Korea\n"
     ]
    }
   ],
   "source": [
    "res = req.get('https://api.themoviedb.org/3/person/1907997',params={'api_key':api_key}) \n",
    "data=res.json()\n",
    "print(data['name'],'-',data['place_of_birth'])"
   ]
  },
  {
   "cell_type": "markdown",
   "id": "c7162ea1-730a-4e5c-95fa-213306b470af",
   "metadata": {},
   "source": [
    "TMDb 2.2\n",
    "Send Feedback\n",
    "Fetch the Instagram and Twitter handle of Indian Actress \"Alia Bhatt\" from the TMDb API.\n",
    "Output Format\n",
    "Print the Instagram and Twitter IDs space separated.\n",
    "instagram_id twitter_id"
   ]
  },
  {
   "cell_type": "code",
   "execution_count": 13,
   "id": "d8e1b06b-8357-4070-8005-0d53fff4844c",
   "metadata": {},
   "outputs": [
    {
     "data": {
      "text/plain": [
       "1108120"
      ]
     },
     "execution_count": 13,
     "metadata": {},
     "output_type": "execute_result"
    }
   ],
   "source": [
    "res = req.get('https://api.themoviedb.org/3/search/person', params={'api_key':api_key, 'query':'Alia Bhatt'})\n",
    "data = res.json()\n",
    "# data\n",
    "1108120"
   ]
  },
  {
   "cell_type": "code",
   "execution_count": 14,
   "id": "28b67842-152a-4207-b618-6facf01a9481",
   "metadata": {},
   "outputs": [
    {
     "name": "stdout",
     "output_type": "stream",
     "text": [
      "aliaabhatt Aliaa08\n"
     ]
    }
   ],
   "source": [
    "res = req.get('https://api.themoviedb.org/3/person/1108120/external_ids', params={'api_key':api_key})\n",
    "data = res.json()\n",
    "print(data['instagram_id'], data['twitter_id'])"
   ]
  },
  {
   "cell_type": "markdown",
   "id": "445e3994-4314-41eb-99fb-b4a0e9c41a7d",
   "metadata": {},
   "source": [
    "TMDb 2.3\n",
    "Fetch the names of the character played by Tom Cruise in the movies:\n",
    "Top Gun\n",
    "Mission: Impossible - Fallout\n",
    "Minority Report\n",
    "Edge of Tomorrow\n",
    "Output Format:\n",
    "Print the names of the characters played by Tom Cruise line separated, in the respective order given in question."
   ]
  },
  {
   "cell_type": "code",
   "execution_count": 15,
   "id": "0d593b80-c8f1-44b0-b935-53a84082dcc1",
   "metadata": {},
   "outputs": [
    {
     "name": "stdout",
     "output_type": "stream",
     "text": [
      "500\n"
     ]
    }
   ],
   "source": [
    "res = req.get('https://api.themoviedb.org/3/search/person', params={'api_key':api_key, 'query':'Tom Cruise'})\n",
    "data = res.json()\n",
    "for i in data['results']:\n",
    "    print(i['id'])"
   ]
  },
  {
   "cell_type": "code",
   "execution_count": 16,
   "id": "010ef4f9-9c7d-4391-9e3d-7781eeb98d99",
   "metadata": {},
   "outputs": [
    {
     "name": "stdout",
     "output_type": "stream",
     "text": [
      "Lt. Pete 'Maverick' Mitchell\n",
      "Ethan Hunt\n",
      "Chief John Anderton\n",
      "Maj. William 'Bill' Cage\n"
     ]
    }
   ],
   "source": [
    "res = req.get('https://api.themoviedb.org/3/person/500/movie_credits', params={'api_key':api_key})\n",
    "l = ['Top Gun', 'Mission: Impossible - Fallout', 'Minority Report','Edge of Tomorrow']\n",
    "data = res.json()\n",
    "for j in l:\n",
    "    for i in data['cast']:\n",
    "        if i['title'] == j:\n",
    "            print(i['character'])"
   ]
  },
  {
   "cell_type": "markdown",
   "id": "0fe12654-6eee-40ad-8197-3c38efea686d",
   "metadata": {},
   "source": [
    "TMDb 2.4\n",
    "Did James McAvoy play a role in the movie Deadpool 2. Print Yes or No."
   ]
  },
  {
   "cell_type": "code",
   "execution_count": 17,
   "id": "07a32dac-d8f4-4a2d-a587-62dc105579b7",
   "metadata": {},
   "outputs": [
    {
     "data": {
      "text/plain": [
       "5530"
      ]
     },
     "execution_count": 17,
     "metadata": {},
     "output_type": "execute_result"
    }
   ],
   "source": [
    "res =req.get('https://api.themoviedb.org/3/search/person', params={'api_key':api_key, 'query':'James McAvoy'})\n",
    "data = res.json()\n",
    "for i in data['results']:\n",
    "    Id = i['id']\n",
    "    break\n",
    "Id"
   ]
  },
  {
   "cell_type": "code",
   "execution_count": 94,
   "id": "a1dfb8fd-685c-4866-8ba7-f2da0a3f0685",
   "metadata": {},
   "outputs": [
    {
     "name": "stdout",
     "output_type": "stream",
     "text": [
      "Yes\n"
     ]
    }
   ],
   "source": [
    "res = req.get('https://api.themoviedb.org/3/person/5530/movie_credits', params={'api_key':api_key})\n",
    "data = res.json()\n",
    "for i in data['cast']:\n",
    "    if 'Deadpool' in i['title']:\n",
    "        print('Yes')\n",
    "        break\n",
    "else:\n",
    "    print('No')"
   ]
  },
  {
   "cell_type": "markdown",
   "id": "16b45d17-e95d-46d6-9fcf-ad46ba32ef58",
   "metadata": {},
   "source": [
    "TMDb 2.5\n",
    "Send Feedback\n",
    "Using the result obtained in previous question, find out if James McAvoy was credited for his role in movie Deadpool 2. Print Yes or No."
   ]
  },
  {
   "cell_type": "code",
   "execution_count": 95,
   "id": "0e6096ea-11f5-47fb-a759-0054db6b3824",
   "metadata": {},
   "outputs": [
    {
     "name": "stdout",
     "output_type": "stream",
     "text": [
      "No\n"
     ]
    }
   ],
   "source": [
    "for result in data['cast']:\n",
    "    if result['title']=='Deadpool 2':\n",
    "        a=result['character']\n",
    "        print('No')"
   ]
  },
  {
   "cell_type": "markdown",
   "id": "2034ac5b-7d54-4ad3-aa80-e03e69acab8c",
   "metadata": {},
   "source": [
    "TMDb 3.1\n",
    "Fetch the overview of the TV Show \"FRIENDS\" using TMDb API."
   ]
  },
  {
   "cell_type": "code",
   "execution_count": 91,
   "id": "0e06b5c9-6137-4946-a58a-8c9ee59c8611",
   "metadata": {},
   "outputs": [
    {
     "name": "stdout",
     "output_type": "stream",
     "text": [
      "Six young people from New York City, on their own and struggling to survive in the real world, find the companionship, comfort and support they get from each other to be the perfect antidote to the pressures of life.\n",
      "Thomas & Friends is a British children's television series, which had its first broadcast on the ITV network on 4 September 1984. It is based on The Railway Series of books by the Reverend Wilbert Awdry and his son, Christopher Awdry. These books deal with the adventures of a group of anthropomorphised locomotives and road vehicles who live on the fictional Island of Sodor. The books were based on stories Wilbert told to entertain his son, Christopher during his recovery from measles. From Series one to four, many of the stories are based on events from Awdry's personal experience.\n",
      "This action and adventure comedy is drawn in simple appearance and combines cute forest animals with extreme graphic violence. Each episode revolves around the characters enduring accidental events of bloodshed, pain, dismemberment and/or death.\n",
      "The animated stories of Garfield the cat, Odie the dog, their owner Jon and the trouble they get into. And also Orson the Pig and his adventures on a farm with his fellow farm animals.\n",
      "Barney & Friends is an American children's television series aimed at children from ages 2 to 5. The series, which first aired on April 6, 1992, features the title character Barney, a purple anthropomorphic Tyrannosaurus rex who conveys educational messages through songs and small dance routines with a friendly, optimistic attitude.\n",
      "Smiling Friends Inc. is a small company whose main purpose is to bring happiness and make people smile. The series follows the day-to-day lives and misadventures of its representatives, the lazy, cynical Charlie, and the cheerful, optimistic Pim, as they try to cheer up and comfort the troubled people who call their company's hotline. They receive seemingly simple requests but the jobs turn out to be more complicated than they seem, making it difficult to bring happiness to the world.\n",
      "Children who create imaginary friends usually take care of them until they are 7-8 years old. Imaginary friends, left on their own after this event, continue to live in this home founded by old Madam Foster.\n",
      "Follow Peter Parker, Gwen Stacy and Miles Morales and their adventures as the young heroes team up with Hulk, Ms. Marvel and Black Panther to defeat foes like Rhino, Doc Ock and Green Goblin and learn that teamwork is the best way to save the day.\n",
      "Armed with technological gear, great ideas and an unfailing sense of humour, Talking Tom and his friends are on a mission to reach stardom at all costs.\n",
      "Spider-Man and His Amazing Friends is an American animated television series produced by Marvel Productions starring established Marvel Comics characters Spider-Man and Iceman and an original character, Firestar. As a trio called the Spider-Friends, they fought against various villains.\n",
      "When their aspiring scientist friend Barry's invention goes awry, best friends Shelby and Cyd gain the power to leap forward and backward in time whenever they want – and sometimes when they don't. Now, they experience the twists and turns of friendship and must decide between fixing mistakes in the past or catching a glimpse of the future. While Barry and his assistant, Naldo, try to figure out how to replicate time travel for themselves, Cyd and Shelby use their newfound power to navigate high school life and Shelby's mischievous twin brothers, Bret and Chet.\n",
      "Pooh, Tigger, and friends from the Hundred Acre Wood welcome new neighbors — an adorable six-year-old girl named Darby and her puppy, Buster. With the help of adventurous super sleuths Tigger and Pooh, every episode revolves around the solving of a mystery and an interactive curriculum that encourages viewers to help them out.\n",
      "The most powerful heroes ever--Superman, Wonder Woman, Aquaman, Batman and Robin--join forces with teenagers Wendy and Marvin and their dog, Marvel the Wonderdog, to defend justice and guard the innocent.\n",
      "Meet Andrea, Mia, Emma, Olivia and Stephanie. They're five best friends. And they're on a heroic mission: to save Heartlake City from wily swindlers.\n",
      "Twenty years after graduation, a tight-knit group of college friends reconnects and discovers that love hasn't gotten easier with age.\n",
      "Friends is a short-lived kids-oriented drama that aired in the spring of 1979. The series, which was produced by Aaron Spelling and aired on ABC, starred Charlie Aiken, Jill Whelan, and Jarrod Johnson as three Southern Californian 11-year-olds. Karen Morrow also appeared. Only five one-hour episodes were produced before the series was cancelled.\n",
      "Revolving around a group of twentysomething singles as they navigate the difficult, sometimes rewarding, often confusing world of dating. Loyal and devoted to one another, these friends are never too busy to help a member of the group who might be in need. In fact, their companionship often extends into a more intimate setting - the bedroom.\n",
      "Dora goes to school and lives in Playa Verde, which is a city. Together with the explorer girls Emma, Kate, Naiya, and Alana and her only male companion, Pablo, Dora and her friends work together and go on amazing adventures while discovering the secrets of their city. Dora has a magical charm bracelet and a smart phone, complete with an app version of the previous Map to aid her. Her friend Kate is fond of drama, while Emma loves music. Alana is tomboyish but loves animals, Naiya is smart and loves to read, and Pablo loves playing soccer.\n",
      "In Murder With Friends, Grace Baldridge invites guests to talk about some of history's most notorious murderers.\n",
      "Five Best Friends Go on Many Fun Lego adventures.\n"
     ]
    }
   ],
   "source": [
    "res=req.get('https://api.themoviedb.org/3/search/tv', params={\"api_key\":api_key, 'query':'FRIENDS'})\n",
    "d = res.json()\n",
    "for i in d['results']:\n",
    "    print(i['overview'])"
   ]
  },
  {
   "cell_type": "raw",
   "id": "187eb3d5-ca24-4ae4-b866-340e24236b21",
   "metadata": {},
   "source": [
    "TMDb 3.2\n",
    "Send Feedback\n",
    "Fetch the name and air date of S06E05 of the TV Show 'The Big Bang Theory' from TMDb API.\n",
    "Output Format:\n",
    "episode_name - air_date"
   ]
  },
  {
   "cell_type": "code",
   "execution_count": 92,
   "id": "9c7c5f27-de43-47a4-b72b-3eaa9b2bcc4b",
   "metadata": {},
   "outputs": [
    {
     "name": "stdout",
     "output_type": "stream",
     "text": [
      "1418\n"
     ]
    }
   ],
   "source": [
    "res = req.get('https://api.themoviedb.org/3/search/tv', params={'api_key':api_key, 'query':'The Big Bang Theory'})\n",
    "d = res.json()\n",
    "for i in d['results']:\n",
    "    print(i['id'])\n",
    "    break"
   ]
  },
  {
   "cell_type": "code",
   "execution_count": 93,
   "id": "39bb4838-65af-44a4-ab86-3e50d8cf16cb",
   "metadata": {},
   "outputs": [
    {
     "name": "stdout",
     "output_type": "stream",
     "text": [
      "The Holographic Excitation - 2012-10-25\n"
     ]
    }
   ],
   "source": [
    "res = req.get('https://api.themoviedb.org/3/tv/1418/season/06/episode/05',params={'api_key':api_key,'query':'The Big Bang Theory'}) \n",
    "data=res.json()\n",
    "print(data['name'],'-',data['air_date'])"
   ]
  },
  {
   "cell_type": "raw",
   "id": "682f5922-32fb-4ec3-a948-3462257005e9",
   "metadata": {},
   "source": [
    "TMDb 3.3\n",
    "Send Feedback\n",
    "Fetch the trending TV Shows for the week from the TMDb API and print the taglines of the top 5 shows. If there is no tagline, print 'Empty' instead\n",
    "Output Format:\n",
    "Print the taglines in new line."
   ]
  },
  {
   "cell_type": "code",
   "execution_count": 96,
   "id": "4a54e00b-1f52-4452-8ff9-022c69672540",
   "metadata": {},
   "outputs": [
    {
     "name": "stdout",
     "output_type": "stream",
     "text": [
      "Journey to Middle-earth.\n",
      "Fire and blood.\n",
      "You'll like her when she's angry.\n",
      "Empty\n",
      "The Rebellion begins.\n"
     ]
    }
   ],
   "source": [
    "import requests \n",
    "api_link = \"https://api.themoviedb.org/3\" \n",
    "params = {'api_key':api_key} \n",
    "header = {'Accept': 'application/json'} \n",
    "response = requests.get(api_link + \"/trending/tv/week\", headers = header, params = params) \n",
    "data = response.json() \n",
    "results = data.get(\"results\") \n",
    "ids=[] \n",
    "for result in results[:5]: \n",
    "    ids.append(result.get(\"id\")) \n",
    "    \n",
    "for id in ids: \n",
    "    response2 = requests.get(api_link + \"/tv/\" + str(id) , headers = header, params = params) \n",
    "    data2 = response2.json() \n",
    "    if (data2.get(\"tagline\")) != \"\": \n",
    "        print(data2.get(\"tagline\")) \n",
    "    else: print('Empty')"
   ]
  },
  {
   "cell_type": "raw",
   "id": "87da82bc-24b4-497b-8a3d-04346743c59b",
   "metadata": {},
   "source": [
    "TMDb 3.4\n",
    "Send Feedback\n",
    "Print the names of all the TV shows to be aired today whose original language is english.\n",
    "Output Format:\n",
    "Print the name of each TV show in a new line."
   ]
  },
  {
   "cell_type": "code",
   "execution_count": 97,
   "id": "db2dd1c5-3610-4b26-989a-0106ba74e50a",
   "metadata": {},
   "outputs": [
    {
     "name": "stdout",
     "output_type": "stream",
     "text": [
      "Chucky\n",
      "American Horror Story\n",
      "Star Wars: Andor\n",
      "Doctors\n",
      "Tenable\n",
      "Emmerdale\n",
      "Hollyoaks\n",
      "PBS NewsHour\n",
      "The Price Is Right\n",
      "The Handmaid's Tale\n",
      "Pointless\n",
      "The Daily Show with Trevor Noah\n",
      "Rachael Ray\n",
      "Chicago Fire\n",
      "Let's Make a Deal\n",
      "The Drew Barrymore Show\n",
      "Richard Osman's House of Games\n",
      "Chicago P.D.\n",
      "General Hospital\n",
      "DC's Stargirl\n",
      "Coronation Street\n",
      "The Block\n",
      "Chicago Med\n",
      "Our School\n",
      "EastEnders\n",
      "Dr. Phil\n",
      "Good Mythical Morning\n",
      "Abot-Kamay Na Pangarap\n",
      "Survivor\n",
      "America Says\n",
      "Home and Away\n",
      "Days of Our Lives\n",
      "Big Sky\n",
      "The Goldbergs\n",
      "Pawn Stars\n",
      "NOVA\n",
      "Jeopardy!\n",
      "LIVE with Kelly and Ryan\n",
      "Kung Fu\n",
      "The Kelly Clarkson Show\n",
      "The Mighty Ducks: Game Changers\n",
      "Family Feud Canada\n",
      "The Amazing Race\n",
      "The Challenge\n",
      "Brassic\n",
      "Forged in Fire\n",
      "Doc Martin\n",
      "The View\n",
      "The Real Housewives of Beverly Hills\n",
      "Cuomo\n",
      "WWE's The Bump\n",
      "Somewhere Boy\n",
      "Match of the Day\n",
      "Dateline: Secrets Uncovered\n",
      "Tyler Perry's Sistas\n",
      "Tell Me Lies\n",
      "The Masked Singer\n",
      "Bhagya Lakshmi\n",
      "The Conners\n",
      "Abbott Elementary\n",
      "Sherri\n",
      "This England\n",
      "Karamo Show\n",
      "Home Economics\n",
      "House Hunters\n",
      "Return to Paradise\n",
      "Documentary Now!\n",
      "Married at First Sight\n",
      "Grand Designs\n",
      "Jay Leno's Garage\n",
      "Reginald the Vampire\n",
      "Richard Herring's Leicester Square Theatre Podcast\n",
      "Gogglebox Australia\n",
      "Alex Wagner Tonight\n",
      "Salvage Hunters\n",
      "The People's Court\n",
      "LEGO Masters\n",
      "Love Is Blind\n",
      "Diggstown\n",
      "Love At First Lie\n",
      "To Catch a Smuggler\n",
      "Ralph & Katie\n",
      "Summer Love\n",
      "Icons Unearthed\n",
      "English Football League Highlights\n",
      "The Real Love Boat\n",
      "The D'Amelio Show\n",
      "Iron Resurrection\n",
      "Never Mind the Buzzcocks\n",
      "The 101 Scariest Horror Movie Moments of All Time\n",
      "Li'l Doc\n",
      "Court Night Live\n",
      "The Real Love Boat Australia\n",
      "Growing Up Chrisley\n",
      "Car Pound Cops: Give Me My Car Back!\n",
      "Selling in the City\n",
      "Primal Survivor: Over the Andes\n",
      "Finding The Rainbow\n",
      "Ajwan\n",
      "People Puzzler\n",
      "Tamron Hall\n",
      "The Real Housewives of Salt Lake City\n",
      "Lost For Words\n",
      "The Elon Musk Show\n",
      "Nakarehas Na Puso\n",
      "Trainspotting with Francis Bourgeois\n",
      "Judge Mathis\n",
      "Tok Guru\n",
      "Demi\n",
      "Ride of Your Life With Courtney Hansen\n",
      "To Catch A Smuggler Caribbean Coast\n"
     ]
    }
   ],
   "source": [
    "res = req.get('https://api.themoviedb.org/3/tv/airing_today',params={'api_key':api_key}) \n",
    "data=res.json()\n",
    "total_pages=data['total_pages']\n",
    "\n",
    "for j in range(1,total_pages+1):\n",
    "    res = requests.get('https://api.themoviedb.org/3/tv/airing_today',params={'api_key':api_key,'page':j}) \n",
    "    data=res.json()\n",
    "    for i in data['results']:\n",
    "        if i['original_language']=='en':\n",
    "            print(i['name'])"
   ]
  },
  {
   "cell_type": "raw",
   "id": "ab3e5198-5ca1-47c2-8e2c-23d1b69f7d89",
   "metadata": {},
   "source": [
    "TMDb 3.5\n",
    "Send Feedback\n",
    "Count the number of males and females in the cast of \"Money Heist\" using the TMDb API.\n",
    "Output Format:\n",
    "Print the count of male and female space separated.\n",
    "male_count female_count"
   ]
  },
  {
   "cell_type": "code",
   "execution_count": 86,
   "id": "88e4711a-1070-4c90-8ed6-2ad458f0d285",
   "metadata": {},
   "outputs": [
    {
     "name": "stdout",
     "output_type": "stream",
     "text": [
      "71446\n"
     ]
    }
   ],
   "source": [
    "res = req.get('https://api.themoviedb.org/3/search/tv', params={'api_key':api_key, \"query\":'Money Heist'})\n",
    "d = res.json()\n",
    "for i in d['results']:\n",
    "    print(i['id'])\n",
    "    break"
   ]
  },
  {
   "cell_type": "code",
   "execution_count": 100,
   "id": "2ec06159-7ca5-4120-94d5-5af1ba1ad935",
   "metadata": {},
   "outputs": [
    {
     "name": "stdout",
     "output_type": "stream",
     "text": [
      "10 5\n"
     ]
    }
   ],
   "source": [
    "res = req.get('https://api.themoviedb.org/3/tv/71446/credits', params={'api_key':api_key})\n",
    "d = res.json()\n",
    "male = 0\n",
    "female = 0\n",
    "for i in d['cast']:\n",
    "    if i['gender'] == 1:\n",
    "        male += 1\n",
    "    elif i['gender'] == 2:\n",
    "        female +=1\n",
    "print(female, male)"
   ]
  }
 ],
 "metadata": {
  "kernelspec": {
   "display_name": "Python 3 (ipykernel)",
   "language": "python",
   "name": "python3"
  },
  "language_info": {
   "codemirror_mode": {
    "name": "ipython",
    "version": 3
   },
   "file_extension": ".py",
   "mimetype": "text/x-python",
   "name": "python",
   "nbconvert_exporter": "python",
   "pygments_lexer": "ipython3",
   "version": "3.9.12"
  }
 },
 "nbformat": 4,
 "nbformat_minor": 5
}
